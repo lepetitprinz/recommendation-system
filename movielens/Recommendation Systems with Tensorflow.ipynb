{
 "cells": [
  {
   "cell_type": "code",
   "execution_count": 1,
   "id": "7c515456",
   "metadata": {},
   "outputs": [],
   "source": [
    "import os\n",
    "import collections\n",
    "\n",
    "import numpy as np\n",
    "import pandas as pd\n",
    "\n",
    "import matplotlib.pyplot as plt\n",
    "from mpl_toolkits.mplot3d import Axes3D\n",
    "\n",
    "import tensorflow as tf\n",
    "\n",
    "pd.options.display.max_rows = 10\n",
    "pd.options.display.float_format = '{:.3f}'.format"
   ]
  },
  {
   "cell_type": "code",
   "execution_count": null,
   "id": "e0677fa2",
   "metadata": {},
   "outputs": [],
   "source": [
    "alt.dat_tranformers.enable('default', max_rows=None)"
   ]
  },
  {
   "cell_type": "code",
   "execution_count": 3,
   "id": "56b43f83",
   "metadata": {},
   "outputs": [],
   "source": [
    "def mask(df: pd.DataFrame, key, function):\n",
    "    return df[function(df[key])]\n",
    "\n",
    "def flatten_cols(df: pd.DataFrame):\n",
    "    df.columns = [' '.join(col).strip() for col in df.columns.values]\n",
    "    return df"
   ]
  },
  {
   "cell_type": "code",
   "execution_count": 4,
   "id": "c32f5dbb",
   "metadata": {},
   "outputs": [],
   "source": [
    "pd.DataFrame.mask = mask\n",
    "pd.DataFrame.flatten_cols = flatten_cols"
   ]
  },
  {
   "cell_type": "code",
   "execution_count": 3,
   "id": "559f0797",
   "metadata": {},
   "outputs": [
    {
     "name": "stdout",
     "output_type": "stream",
     "text": [
      "b'943 users\\n1682 items\\n100000 ratings\\n'\n"
     ]
    }
   ],
   "source": [
    "# Download MovieLens data\n",
    "import zipfile\n",
    "from urllib.request import urlretrieve\n",
    "\n",
    "zip_path = os.path.join('/', 'Users', 'yjkim', 'data', 'recommend', 'ml-100k.zip')\n",
    "zip_ref = zipfile.ZipFile(zip_path, 'r')\n",
    "zip_ref.extractall()\n",
    "print(zip_ref.read('ml-100k/u.info'))"
   ]
  },
  {
   "cell_type": "code",
   "execution_count": null,
   "id": "d1109339",
   "metadata": {},
   "outputs": [],
   "source": [
    "data_path = os.path.join('/', 'Users', 'yjkim', 'data', 'recommend', 'ml-100k')\n",
    "\n",
    "# Load dataset(users, movies, ratings)\n",
    "users_cols = ['user_id', 'age', 'sex', 'occupation', 'zip_code']\n",
    "users = pd.read_csv(os.path.join(data_path, 'u.user'), sep='|', \n",
    "                    names=users_cols, encoding='latin-1')\n",
    "\n",
    "ratings_cols = ['user_id', 'movie_id', 'rating', 'unix_timestamp']\n",
    "ratings = pd.read_csv(os.path.join(data_path, 'u.data'), sep='|',\n",
    "                      names=ratings_cols, encoding='latin-1')\n",
    "\n",
    "genre_cols = [\n",
    "    \"genre_unknown\", \"Action\", \"Adventure\", \"Animation\", \"Children\", \"Comedy\",\n",
    "    \"Crime\", \"Documentary\", \"Drama\", \"Fantasy\", \"Film-Noir\", \"Horror\",\n",
    "    \"Musical\", \"Mystery\", \"Romance\", \"Sci-Fi\", \"Thriller\", \"War\", \"Western\"\n",
    "]\n",
    "movies_cols = [\n",
    "    'movie_id', 'title', 'release_date', \"video_release_date\", \"imdb_url\"\n",
    "] + genre_cols\n",
    "movies = pd.read_csv(os.path.join(data_path,u.item', sep='|', \n",
    "                     names=movies_cols, encoding='latin-1')"
   ]
  }
 ],
 "metadata": {
  "kernelspec": {
   "display_name": "Python 3",
   "language": "python",
   "name": "python3"
  },
  "language_info": {
   "codemirror_mode": {
    "name": "ipython",
    "version": 3
   },
   "file_extension": ".py",
   "mimetype": "text/x-python",
   "name": "python",
   "nbconvert_exporter": "python",
   "pygments_lexer": "ipython3",
   "version": "3.7.9"
  }
 },
 "nbformat": 4,
 "nbformat_minor": 5
}
