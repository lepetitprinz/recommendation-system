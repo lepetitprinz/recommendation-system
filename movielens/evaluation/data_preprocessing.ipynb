{
 "cells": [
  {
   "cell_type": "code",
   "execution_count": 8,
   "id": "36f0f0b7",
   "metadata": {},
   "outputs": [],
   "source": [
    "import os\n",
    "import csv\n",
    "import sys\n",
    "import re \n",
    "import time\n",
    "import pandas as pd\n",
    "\n",
    "from surprise import Dataset\n",
    "from surprise import Reader"
   ]
  },
  {
   "cell_type": "code",
   "execution_count": 24,
   "id": "14442653",
   "metadata": {},
   "outputs": [],
   "source": [
    "class preprocessing(object):\n",
    "    def __init__(self, path):\n",
    "        self.path = {\n",
    "            'movie': path['movie'],\n",
    "            'rating': path['rating']\n",
    "        }\n",
    "        self.movie_id_to_name = {}\n",
    "        self.name_to_movie_id = {}\n",
    "        \n",
    "    def load(self):\n",
    "        reader = Reader(line_format='user item rating timestamp', sep=',', skip_lines=1)\n",
    "        rating = Dataset.load_from_file(self.path['rating'], reader=reader)\n",
    "        \n",
    "        with open(self.path['movie'], newline='', encoding='ISO-8859-1') as file:\n",
    "            movie = csv.reader(file)\n",
    "            next(movie)\n",
    "            for row in movie:\n",
    "                movie_id = int(row[0])\n",
    "                movie_name = row[1]\n",
    "                self.movie_id_to_name[movie_id] = movie_name\n",
    "                self.name_to_movie_id[movie_name] = movie_id\n",
    "        \n",
    "        return rating\n",
    "\n",
    "    def get_popu"
   ]
  },
  {
   "cell_type": "code",
   "execution_count": 25,
   "id": "e0521380",
   "metadata": {},
   "outputs": [],
   "source": [
    "path = {\n",
    "    'movie': os.path.join('..', 'data', 'movies.csv'),\n",
    "    'rating': os.path.join('..', 'data', 'ratings.csv')\n",
    "}\n",
    "\n",
    "prep = preprocessing(path=path)"
   ]
  },
  {
   "cell_type": "code",
   "execution_count": null,
   "id": "547817fe",
   "metadata": {},
   "outputs": [],
   "source": []
  }
 ],
 "metadata": {
  "kernelspec": {
   "display_name": "Python 3 (ipykernel)",
   "language": "python",
   "name": "python3"
  },
  "language_info": {
   "codemirror_mode": {
    "name": "ipython",
    "version": 3
   },
   "file_extension": ".py",
   "mimetype": "text/x-python",
   "name": "python",
   "nbconvert_exporter": "python",
   "pygments_lexer": "ipython3",
   "version": "3.8.10"
  }
 },
 "nbformat": 4,
 "nbformat_minor": 5
}
